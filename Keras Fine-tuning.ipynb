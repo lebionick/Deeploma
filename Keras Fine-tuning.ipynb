{
 "cells": [
  {
   "cell_type": "markdown",
   "metadata": {},
   "source": [
    "## Fine-tuning of different convnet architectures "
   ]
  },
  {
   "cell_type": "markdown",
   "metadata": {},
   "source": [
    "### These results will be used as the references in the terminal work"
   ]
  },
  {
   "cell_type": "markdown",
   "metadata": {
    "collapsed": true
   },
   "source": [
    "**TODO:**\n",
    "- Train small model just to get inital reference and understand how to prepare data for optimal performance -> Kurochkin homework\n",
    "- Fine-tune \"battlefield\" model to get actual data for comparison -> save this model and save the results\n",
    "- Define custom data-iterator to be able to get labels of required level of abstractness\n",
    "- Try different slices and convolutions to get maximal accuracy on binary classification (vehicle-non vehicle) -> save this results to have link to it in the paper (dimploma)\n",
    "- If the previous step was successful, train other tree-splits in such manner -> save their weights <- read about two sigmoids vs 3 softmax, otherwise build more simple models, and compare to the full SOTA net\n",
    "- Compile all these models and put them together in a code. It's possible to use them as the complex network, making all the calculations, to assess work of the whole system -> save this results and visualize\n",
    "- Build the CHC, measure time and final metrics"
   ]
  },
  {
   "cell_type": "code",
   "execution_count": null,
   "metadata": {
    "collapsed": true
   },
   "outputs": [],
   "source": []
  }
 ],
 "metadata": {
  "kernelspec": {
   "display_name": "Python 3",
   "language": "python",
   "name": "python3"
  },
  "language_info": {
   "codemirror_mode": {
    "name": "ipython",
    "version": 3
   },
   "file_extension": ".py",
   "mimetype": "text/x-python",
   "name": "python",
   "nbconvert_exporter": "python",
   "pygments_lexer": "ipython3",
   "version": "3.6.2"
  }
 },
 "nbformat": 4,
 "nbformat_minor": 2
}
